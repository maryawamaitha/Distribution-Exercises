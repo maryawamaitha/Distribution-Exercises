{
 "cells": [
  {
   "cell_type": "code",
   "execution_count": 1,
   "id": "b85227fe",
   "metadata": {},
   "outputs": [],
   "source": [
    "import pandas as pd\n",
    "import numpy as np\n",
    "import seaborn as sns\n",
    "from scipy import stats\n",
    "import matplotlib.pyplot as plt"
   ]
  },
  {
   "cell_type": "code",
   "execution_count": 26,
   "id": "a2d3c6f3",
   "metadata": {},
   "outputs": [
    {
     "data": {
      "text/html": [
       "<div>\n",
       "<style scoped>\n",
       "    .dataframe tbody tr th:only-of-type {\n",
       "        vertical-align: middle;\n",
       "    }\n",
       "\n",
       "    .dataframe tbody tr th {\n",
       "        vertical-align: top;\n",
       "    }\n",
       "\n",
       "    .dataframe thead th {\n",
       "        text-align: right;\n",
       "    }\n",
       "</style>\n",
       "<table border=\"1\" class=\"dataframe\">\n",
       "  <thead>\n",
       "    <tr style=\"text-align: right;\">\n",
       "      <th></th>\n",
       "      <th>age</th>\n",
       "      <th>sex</th>\n",
       "      <th>bmi</th>\n",
       "      <th>children</th>\n",
       "      <th>smoker</th>\n",
       "      <th>region</th>\n",
       "      <th>charges</th>\n",
       "    </tr>\n",
       "  </thead>\n",
       "  <tbody>\n",
       "    <tr>\n",
       "      <th>0</th>\n",
       "      <td>19</td>\n",
       "      <td>female</td>\n",
       "      <td>27.900</td>\n",
       "      <td>0</td>\n",
       "      <td>yes</td>\n",
       "      <td>southwest</td>\n",
       "      <td>16884.92400</td>\n",
       "    </tr>\n",
       "    <tr>\n",
       "      <th>1</th>\n",
       "      <td>18</td>\n",
       "      <td>male</td>\n",
       "      <td>33.770</td>\n",
       "      <td>1</td>\n",
       "      <td>no</td>\n",
       "      <td>southeast</td>\n",
       "      <td>1725.55230</td>\n",
       "    </tr>\n",
       "    <tr>\n",
       "      <th>2</th>\n",
       "      <td>28</td>\n",
       "      <td>male</td>\n",
       "      <td>33.000</td>\n",
       "      <td>3</td>\n",
       "      <td>no</td>\n",
       "      <td>southeast</td>\n",
       "      <td>4449.46200</td>\n",
       "    </tr>\n",
       "    <tr>\n",
       "      <th>3</th>\n",
       "      <td>33</td>\n",
       "      <td>male</td>\n",
       "      <td>22.705</td>\n",
       "      <td>0</td>\n",
       "      <td>no</td>\n",
       "      <td>northwest</td>\n",
       "      <td>21984.47061</td>\n",
       "    </tr>\n",
       "    <tr>\n",
       "      <th>4</th>\n",
       "      <td>32</td>\n",
       "      <td>male</td>\n",
       "      <td>28.880</td>\n",
       "      <td>0</td>\n",
       "      <td>no</td>\n",
       "      <td>northwest</td>\n",
       "      <td>3866.85520</td>\n",
       "    </tr>\n",
       "  </tbody>\n",
       "</table>\n",
       "</div>"
      ],
      "text/plain": [
       "   age     sex     bmi  children smoker     region      charges\n",
       "0   19  female  27.900         0    yes  southwest  16884.92400\n",
       "1   18    male  33.770         1     no  southeast   1725.55230\n",
       "2   28    male  33.000         3     no  southeast   4449.46200\n",
       "3   33    male  22.705         0     no  northwest  21984.47061\n",
       "4   32    male  28.880         0     no  northwest   3866.85520"
      ]
     },
     "execution_count": 26,
     "metadata": {},
     "output_type": "execute_result"
    }
   ],
   "source": [
    "df=pd.read_csv(r'C:\\Users\\marya\\Downloads\\insurance - insurance.csv')\n",
    "df.head()"
   ]
  },
  {
   "cell_type": "code",
   "execution_count": 27,
   "id": "b3091027",
   "metadata": {},
   "outputs": [
    {
     "name": "stdout",
     "output_type": "stream",
     "text": [
      "<class 'pandas.core.frame.DataFrame'>\n",
      "RangeIndex: 1338 entries, 0 to 1337\n",
      "Data columns (total 7 columns):\n",
      " #   Column    Non-Null Count  Dtype  \n",
      "---  ------    --------------  -----  \n",
      " 0   age       1338 non-null   int64  \n",
      " 1   sex       1338 non-null   object \n",
      " 2   bmi       1338 non-null   float64\n",
      " 3   children  1338 non-null   int64  \n",
      " 4   smoker    1338 non-null   object \n",
      " 5   region    1338 non-null   object \n",
      " 6   charges   1338 non-null   float64\n",
      "dtypes: float64(2), int64(2), object(3)\n",
      "memory usage: 73.3+ KB\n"
     ]
    }
   ],
   "source": [
    "df.info()"
   ]
  },
  {
   "cell_type": "markdown",
   "id": "9d0e2cca",
   "metadata": {},
   "source": [
    "- Q1. Do smokers have higher insurance charges than non-smokers?\n",
    "Null Hypothesis - There is no significant difference between insurance charges of smokers and non-smokers.(smokers and non smokers have the same insurance charges\n",
    "\n",
    "Alternative Hypothesis - There is significant difference between insurance charges of smokers and non-smokers.\n",
    "\n",
    "Select the correct test : Independent 2-sample T-test"
   ]
  },
  {
   "cell_type": "code",
   "execution_count": 41,
   "id": "88ef615e",
   "metadata": {},
   "outputs": [
    {
     "name": "stdout",
     "output_type": "stream",
     "text": [
      "For Smokers (n=22): Mean=32997.31\n",
      "For non-smokers (n=78): Mean=8394.54\n"
     ]
    }
   ],
   "source": [
    "sample = df.sample(n=100,random_state=42)\n",
    "smoker_charge = sample.loc[ sample['smoker']=='yes',\"charges\"]\n",
    "non_smoker_charge = sample.loc[ sample['smoker']=='no',\"charges\"]\n"
   ]
  },
  {
   "cell_type": "markdown",
   "id": "4e91a87f",
   "metadata": {},
   "source": [
    "Test the assumptions of your selected test.\n",
    "Independent T-Test Assumptions:\n",
    "\n",
    "No significant outliers\n",
    "Normality \n",
    "Equal Variance \n",
    "Testing for Outliers"
   ]
  },
  {
   "cell_type": "code",
   "execution_count": 42,
   "id": "e55e09d0",
   "metadata": {},
   "outputs": [
    {
     "data": {
      "text/plain": [
       "0"
      ]
     },
     "execution_count": 42,
     "metadata": {},
     "output_type": "execute_result"
    }
   ],
   "source": [
    "#Testing for Outliers\n",
    "zscores_f = stats.zscore(smoker_charge)\n",
    "outliers_f = abs(zscores_f)>3\n",
    "np.sum(outliers_f)"
   ]
  },
  {
   "cell_type": "code",
   "execution_count": 43,
   "id": "f2dec126",
   "metadata": {},
   "outputs": [
    {
     "data": {
      "text/plain": [
       "2"
      ]
     },
     "execution_count": 43,
     "metadata": {},
     "output_type": "execute_result"
    }
   ],
   "source": [
    "#Testing for Outliers\n",
    "zscores_f = stats.zscore(non_smoker_charge)\n",
    "outliers_f = abs(zscores_f)>3\n",
    "np.sum(outliers_f)"
   ]
  },
  {
   "cell_type": "markdown",
   "id": "3a482ac0",
   "metadata": {},
   "source": [
    "There are outliers"
   ]
  },
  {
   "cell_type": "code",
   "execution_count": 53,
   "id": "9cc2cdc8",
   "metadata": {},
   "outputs": [],
   "source": [
    "#Remove outliers\n",
    "non_smoker_charge = non_smoker_charge[(np.abs(stats.zscore(non_smoker_charge)) < 3)]"
   ]
  },
  {
   "cell_type": "code",
   "execution_count": 54,
   "id": "3f295c4d",
   "metadata": {},
   "outputs": [
    {
     "data": {
      "text/plain": [
       "0"
      ]
     },
     "execution_count": 54,
     "metadata": {},
     "output_type": "execute_result"
    }
   ],
   "source": [
    "#ReTesting for Outliers\n",
    "zscores_f = stats.zscore(non_smoker_charge)\n",
    "outliers_f = abs(zscores_f)>3\n",
    "np.sum(outliers_f)"
   ]
  },
  {
   "cell_type": "markdown",
   "id": "156c2d66",
   "metadata": {},
   "source": [
    "There are no outliers"
   ]
  },
  {
   "cell_type": "code",
   "execution_count": 59,
   "id": "83eb25b4",
   "metadata": {},
   "outputs": [
    {
     "name": "stdout",
     "output_type": "stream",
     "text": [
      "NormaltestResult(statistic=8.481188655372003, pvalue=0.014399031556451041)\n",
      "NormaltestResult(statistic=4.011538559343466, pvalue=0.1345567441026122)\n"
     ]
    }
   ],
   "source": [
    "#Test of Normalities\n",
    "result_smoker = stats.normaltest(smoker_charge)\n",
    "print(result_smoker)\n",
    "result_nonsmoker = stats.normaltest(non_smoker_charge)\n",
    "print(result_nonsmoker)"
   ]
  },
  {
   "cell_type": "markdown",
   "id": "3863b722",
   "metadata": {},
   "source": [
    "result_nonsmoker = stats.normaltest(non_smoker_charge)\n",
    "result_nonsmoker. Since sample size is greater than 15 proceeded to the next assumption"
   ]
  },
  {
   "cell_type": "code",
   "execution_count": 12,
   "id": "fcf6eaa6",
   "metadata": {},
   "outputs": [
    {
     "data": {
      "text/plain": [
       "LeveneResult(statistic=28.506495620059756, pvalue=6.24829133463234e-07)"
      ]
     },
     "execution_count": 12,
     "metadata": {},
     "output_type": "execute_result"
    }
   ],
   "source": [
    "#Testing for Equal Variance with Levene's test\n",
    "result = stats.levene(smoker_charge, non_smoker_charge)\n",
    "result"
   ]
  },
  {
   "cell_type": "markdown",
   "id": "e58cb01c",
   "metadata": {},
   "source": [
    "Since our p-value was <.05 we reject the null hypothesis that the samples come from populations with equal variances. We have not met the assumption of homogeneity of variances. Thus  we  will run the Welch's T-Test, to account for unequal variance."
   ]
  },
  {
   "cell_type": "code",
   "execution_count": 57,
   "id": "c08f3f30",
   "metadata": {},
   "outputs": [
    {
     "name": "stdout",
     "output_type": "stream",
     "text": [
      "Ttest_indResult(statistic=17.40885366485481, pvalue=5.145268224638272e-31)\n"
     ]
    },
    {
     "data": {
      "text/plain": [
       "True"
      ]
     },
     "execution_count": 57,
     "metadata": {},
     "output_type": "execute_result"
    }
   ],
   "source": [
    "result1 = stats.ttest_ind(smoker_charge, non_smoker_charge)\n",
    "print(result1)\n",
    "result1.pvalue < .05"
   ]
  },
  {
   "cell_type": "markdown",
   "id": "82348d64",
   "metadata": {},
   "source": [
    "The Welch's T-Test return a p-value < .05 thus we reject the null hypothesis and support the alternative hypothesis that there is a significant difference between insurance charges of smokers and non-smokers."
   ]
  },
  {
   "cell_type": "markdown",
   "id": "e8f03128",
   "metadata": {},
   "source": [
    "CONCLUSION:\n",
    "there is a significant difference between insurance charges of smokers and non-smokers. As shown in the graph below: Smokers are charged higher than non-smokers"
   ]
  },
  {
   "cell_type": "code",
   "execution_count": 58,
   "id": "45ba1e2c",
   "metadata": {},
   "outputs": [
    {
     "name": "stdout",
     "output_type": "stream",
     "text": [
      "For Smokers (n=22): Mean=32997.31\n",
      "For non-smokers (n=73): Mean=7177.87\n"
     ]
    },
    {
     "data": {
      "image/png": "[encoded data removed]",
      "text/plain": [
       "<Figure size 432x288 with 1 Axes>"
      ]
     },
     "metadata": {
      "needs_background": "light"
     },
     "output_type": "display_data"
    }
   ],
   "source": [
    "ax = sns.barplot(data=df, x='smoker',y='charges',)\n",
    "ax.set_title(\"Comparison of Insurance charges Between Smokers and Non Smokers\");\n",
    "\n",
    "#Mean of the insurance charges for smokers and non-smokers\n",
    "print(f\"For Smokers (n={len(smoker_charge)}): Mean={np.mean(smoker_charge):.2f}\")\n",
    "print(f\"For non-smokers (n={len(non_smoker_charge)}): Mean={np.mean(non_smoker_charge):.2f}\")"
   ]
  },
  {
   "cell_type": "markdown",
   "id": "7e2ab09d",
   "metadata": {},
   "source": [
    "Q2. Are men more likely to smoke than women?\n",
    "Null Hypothesis - There is no relationship between gender and likelihood to smoke\n",
    "\n",
    "Alternative Hypothesis - There is a relationship between gender and smoking  \n",
    "\n",
    "- Select the correct test: Chi-square test\n",
    "\n",
    "- Test the assumptions of your selected test: \n",
    "- Show a supporting visualization that helps display the result"
   ]
  },
  {
   "cell_type": "code",
   "execution_count": 13,
   "id": "c3f95144",
   "metadata": {
    "scrolled": true
   },
   "outputs": [
    {
     "data": {
      "image/png": "[encoded data removed]",
      "text/plain": [
       "<Figure size 432x288 with 1 Axes>"
      ]
     },
     "metadata": {
      "needs_background": "light"
     },
     "output_type": "display_data"
    }
   ],
   "source": [
    "ax = sns.countplot(data=df, x='sex',hue='smoker',)\n",
    "ax.set_title(\"Number of Smokers by Sex\");"
   ]
  },
  {
   "cell_type": "code",
   "execution_count": 14,
   "id": "c02533c1",
   "metadata": {},
   "outputs": [
    {
     "data": {
      "text/html": [
       "<div>\n",
       "<style scoped>\n",
       "    .dataframe tbody tr th:only-of-type {\n",
       "        vertical-align: middle;\n",
       "    }\n",
       "\n",
       "    .dataframe tbody tr th {\n",
       "        vertical-align: top;\n",
       "    }\n",
       "\n",
       "    .dataframe thead th {\n",
       "        text-align: right;\n",
       "    }\n",
       "</style>\n",
       "<table border=\"1\" class=\"dataframe\">\n",
       "  <thead>\n",
       "    <tr style=\"text-align: right;\">\n",
       "      <th>smoker</th>\n",
       "      <th>no</th>\n",
       "      <th>yes</th>\n",
       "    </tr>\n",
       "    <tr>\n",
       "      <th>sex</th>\n",
       "      <th></th>\n",
       "      <th></th>\n",
       "    </tr>\n",
       "  </thead>\n",
       "  <tbody>\n",
       "    <tr>\n",
       "      <th>female</th>\n",
       "      <td>547</td>\n",
       "      <td>115</td>\n",
       "    </tr>\n",
       "    <tr>\n",
       "      <th>male</th>\n",
       "      <td>517</td>\n",
       "      <td>159</td>\n",
       "    </tr>\n",
       "  </tbody>\n",
       "</table>\n",
       "</div>"
      ],
      "text/plain": [
       "smoker   no  yes\n",
       "sex             \n",
       "female  547  115\n",
       "male    517  159"
      ]
     },
     "execution_count": 14,
     "metadata": {},
     "output_type": "execute_result"
    }
   ],
   "source": [
    "comparison = pd.crosstab(df['sex'], df['smoker'])\n",
    "comparison"
   ]
  },
  {
   "cell_type": "code",
   "execution_count": 15,
   "id": "24f9bb3e",
   "metadata": {},
   "outputs": [],
   "source": [
    "result = stats.chi2_contingency(comparison)\n",
    "chi2, p, deg_free, expected_vals = result"
   ]
  },
  {
   "cell_type": "code",
   "execution_count": 16,
   "id": "b1a23025",
   "metadata": {},
   "outputs": [
    {
     "name": "stdout",
     "output_type": "stream",
     "text": [
      "0.006548143503580696\n"
     ]
    },
    {
     "data": {
      "text/plain": [
       "True"
      ]
     },
     "execution_count": 16,
     "metadata": {},
     "output_type": "execute_result"
    }
   ],
   "source": [
    "print(p)\n",
    "p<.05"
   ]
  },
  {
   "cell_type": "markdown",
   "id": "79179bbc",
   "metadata": {},
   "source": [
    "Since our p < .05, we reject the null hypothesis that there is no relationship between gender and likelihood of smoking.Hence, accept the alternate hypothesis and conclude that there is a relationship between gender and smoking.{men are more likely to smoke than women"
   ]
  },
  {
   "cell_type": "markdown",
   "id": "d6465eaa",
   "metadata": {},
   "source": [
    "- Q3. Do different regions have different charges, on average?\n",
    "- Null Hypothesis - There is no significant difference between the amount of insurance charge in different regions.(Charges are the same irrespective of the region)\n",
    "\n",
    "- Alternate Hypothesis - There is a significant difference between the amount of insurance charge in different regions.\n",
    "\n",
    "- Select the correct test: ANOVA test\n",
    "\n",
    "\n",
    "\n",
    "- Show a supporting visualization that helps display the result\n"
   ]
  },
  {
   "cell_type": "markdown",
   "id": "97c6da05",
   "metadata": {},
   "source": [
    "- Test the assumptions of your selected test: Normality, Equal variance, No significant outliers"
   ]
  },
  {
   "cell_type": "code",
   "execution_count": 62,
   "id": "cf2ca761",
   "metadata": {},
   "outputs": [
    {
     "data": {
      "text/plain": [
       "dict_keys(['southwest', 'southeast', 'northwest', 'northeast'])"
      ]
     },
     "execution_count": 62,
     "metadata": {},
     "output_type": "execute_result"
    }
   ],
   "source": [
    "groups = {}\n",
    "## Loop through all unique categories\n",
    "for i in df['region'].unique():\n",
    "    ## Get series for group and rename\n",
    "    data = df.loc[df['region']==i,'charges'].copy()\n",
    "    \n",
    "    # save into the dictionary\n",
    "    groups[i] = data\n",
    "groups.keys()"
   ]
  },
  {
   "cell_type": "code",
   "execution_count": 66,
   "id": "d10071d8",
   "metadata": {},
   "outputs": [
    {
     "data": {
      "text/plain": [
       "4"
      ]
     },
     "execution_count": 66,
     "metadata": {},
     "output_type": "execute_result"
    }
   ],
   "source": [
    "#Test for Outliers\n",
    "zscores_f2 = stats.zscore(data)\n",
    "outliers_f2 = abs(zscores_f2)>3\n",
    "np.sum(outliers_f2)"
   ]
  },
  {
   "cell_type": "code",
   "execution_count": 69,
   "id": "a1314c98",
   "metadata": {},
   "outputs": [
    {
     "data": {
      "text/plain": [
       "[8       True\n",
       " 10      True\n",
       " 16      True\n",
       " 17      True\n",
       " 20      True\n",
       "         ... \n",
       " 1321    True\n",
       " 1325    True\n",
       " 1326    True\n",
       " 1328    True\n",
       " 1334    True\n",
       " Name: charges, Length: 320, dtype: bool]"
      ]
     },
     "execution_count": 69,
     "metadata": {},
     "output_type": "execute_result"
    }
   ],
   "source": [
    "data = data[(np.abs(stats.zscore(data)) < 3)]"
   ]
  },
  {
   "cell_type": "code",
   "execution_count": 70,
   "id": "317b953f",
   "metadata": {},
   "outputs": [
    {
     "data": {
      "text/plain": [
       "0"
      ]
     },
     "execution_count": 70,
     "metadata": {},
     "output_type": "execute_result"
    }
   ],
   "source": [
    "#ReTesting for Outliers\n",
    "zscores_f3 = stats.zscore(data)\n",
    "outliers_f3 = abs(zscores_f3)>3\n",
    "np.sum(outliers_f)"
   ]
  },
  {
   "cell_type": "code",
   "execution_count": 63,
   "id": "20f302e7",
   "metadata": {},
   "outputs": [
    {
     "data": {
      "text/html": [
       "<div>\n",
       "<style scoped>\n",
       "    .dataframe tbody tr th:only-of-type {\n",
       "        vertical-align: middle;\n",
       "    }\n",
       "\n",
       "    .dataframe tbody tr th {\n",
       "        vertical-align: top;\n",
       "    }\n",
       "\n",
       "    .dataframe thead th {\n",
       "        text-align: right;\n",
       "    }\n",
       "</style>\n",
       "<table border=\"1\" class=\"dataframe\">\n",
       "  <thead>\n",
       "    <tr style=\"text-align: right;\">\n",
       "      <th></th>\n",
       "      <th>n</th>\n",
       "      <th>p</th>\n",
       "      <th>test stat</th>\n",
       "    </tr>\n",
       "  </thead>\n",
       "  <tbody>\n",
       "    <tr>\n",
       "      <th>southwest</th>\n",
       "      <td>325.0</td>\n",
       "      <td>6.125298e-23</td>\n",
       "      <td>102.294059</td>\n",
       "    </tr>\n",
       "    <tr>\n",
       "      <th>southeast</th>\n",
       "      <td>364.0</td>\n",
       "      <td>4.953297e-15</td>\n",
       "      <td>65.877446</td>\n",
       "    </tr>\n",
       "    <tr>\n",
       "      <th>northwest</th>\n",
       "      <td>325.0</td>\n",
       "      <td>5.184209e-24</td>\n",
       "      <td>107.232850</td>\n",
       "    </tr>\n",
       "    <tr>\n",
       "      <th>northeast</th>\n",
       "      <td>324.0</td>\n",
       "      <td>1.455431e-19</td>\n",
       "      <td>86.747629</td>\n",
       "    </tr>\n",
       "  </tbody>\n",
       "</table>\n",
       "</div>"
      ],
      "text/plain": [
       "               n             p   test stat\n",
       "southwest  325.0  6.125298e-23  102.294059\n",
       "southeast  364.0  4.953297e-15   65.877446\n",
       "northwest  325.0  5.184209e-24  107.232850\n",
       "northeast  324.0  1.455431e-19   86.747629"
      ]
     },
     "execution_count": 63,
     "metadata": {},
     "output_type": "execute_result"
    }
   ],
   "source": [
    "#Test for Normality\n",
    "norm_results = {}\n",
    "for i, data in groups.items():\n",
    "    stat, p = stats.normaltest(data)\n",
    "    ## save the p val, test statistic, and the size of the group\n",
    "    norm_results[i] = {'n': len(data),\n",
    "                             'p':p,\n",
    "                             'test stat':stat,}\n",
    "## convert to a dataframe\n",
    "norm_results_df = pd.DataFrame(norm_results).T\n",
    "norm_results_df"
   ]
  },
  {
   "cell_type": "markdown",
   "id": "39a54094",
   "metadata": {},
   "source": [
    "They do not have a normal distribution"
   ]
  },
  {
   "cell_type": "code",
   "execution_count": 71,
   "id": "4126e1a7",
   "metadata": {},
   "outputs": [
    {
     "data": {
      "text/html": [
       "<div>\n",
       "<style scoped>\n",
       "    .dataframe tbody tr th:only-of-type {\n",
       "        vertical-align: middle;\n",
       "    }\n",
       "\n",
       "    .dataframe tbody tr th {\n",
       "        vertical-align: top;\n",
       "    }\n",
       "\n",
       "    .dataframe thead th {\n",
       "        text-align: right;\n",
       "    }\n",
       "</style>\n",
       "<table border=\"1\" class=\"dataframe\">\n",
       "  <thead>\n",
       "    <tr style=\"text-align: right;\">\n",
       "      <th></th>\n",
       "      <th>n</th>\n",
       "      <th>p</th>\n",
       "      <th>test stat</th>\n",
       "      <th>sig</th>\n",
       "    </tr>\n",
       "  </thead>\n",
       "  <tbody>\n",
       "    <tr>\n",
       "      <th>southwest</th>\n",
       "      <td>325.0</td>\n",
       "      <td>6.125298e-23</td>\n",
       "      <td>102.294059</td>\n",
       "      <td>True</td>\n",
       "    </tr>\n",
       "    <tr>\n",
       "      <th>southeast</th>\n",
       "      <td>364.0</td>\n",
       "      <td>4.953297e-15</td>\n",
       "      <td>65.877446</td>\n",
       "      <td>True</td>\n",
       "    </tr>\n",
       "    <tr>\n",
       "      <th>northwest</th>\n",
       "      <td>325.0</td>\n",
       "      <td>5.184209e-24</td>\n",
       "      <td>107.232850</td>\n",
       "      <td>True</td>\n",
       "    </tr>\n",
       "    <tr>\n",
       "      <th>northeast</th>\n",
       "      <td>324.0</td>\n",
       "      <td>1.455431e-19</td>\n",
       "      <td>86.747629</td>\n",
       "      <td>True</td>\n",
       "    </tr>\n",
       "  </tbody>\n",
       "</table>\n",
       "</div>"
      ],
      "text/plain": [
       "               n             p   test stat   sig\n",
       "southwest  325.0  6.125298e-23  102.294059  True\n",
       "southeast  364.0  4.953297e-15   65.877446  True\n",
       "northwest  325.0  5.184209e-24  107.232850  True\n",
       "northeast  324.0  1.455431e-19   86.747629  True"
      ]
     },
     "execution_count": 71,
     "metadata": {},
     "output_type": "execute_result"
    }
   ],
   "source": [
    "norm_results_df['sig'] = norm_results_df['p'] < .05 \n",
    "norm_results_df"
   ]
  },
  {
   "cell_type": "markdown",
   "id": "18839ea6",
   "metadata": {},
   "source": [
    "Test for Equal Variance: using Levienne Test"
   ]
  },
  {
   "cell_type": "code",
   "execution_count": 72,
   "id": "783c09c7",
   "metadata": {},
   "outputs": [
    {
     "data": {
      "text/plain": [
       "LeveneResult(statistic=5.559966758410606, pvalue=0.0008610590250786703)"
      ]
     },
     "execution_count": 72,
     "metadata": {},
     "output_type": "execute_result"
    }
   ],
   "source": [
    "stats.levene(*groups.values())"
   ]
  },
  {
   "cell_type": "markdown",
   "id": "78173010",
   "metadata": {},
   "source": [
    "Since the p<0.05 : we reject the null hypothesis also indicating the groups have unequal variance. "
   ]
  },
  {
   "cell_type": "code",
   "execution_count": 80,
   "id": "f29a6d62",
   "metadata": {},
   "outputs": [
    {
     "data": {
      "text/plain": [
       "F_onewayResult(statistic=2.96962669358912, pvalue=0.0308933560705201)"
      ]
     },
     "execution_count": 80,
     "metadata": {},
     "output_type": "execute_result"
    }
   ],
   "source": [
    "#ANOVA Hypothesis Test\n",
    "results = stats.f_oneway( *groups.values())\n",
    "results"
   ]
  },
  {
   "cell_type": "markdown",
   "id": "e3887417",
   "metadata": {},
   "source": [
    "p<0.05 indicating There is no significant difference between the regions and charges"
   ]
  },
  {
   "cell_type": "code",
   "execution_count": 17,
   "id": "dd4b5c29",
   "metadata": {},
   "outputs": [
    {
     "data": {
      "image/png": "[encoded data removed]",
      "text/plain": [
       "<Figure size 432x288 with 1 Axes>"
      ]
     },
     "metadata": {
      "needs_background": "light"
     },
     "output_type": "display_data"
    }
   ],
   "source": [
    "ax = sns.barplot(data=df, x='region',y='charges',)\n",
    "ax.set_title(\"Amount of Insurance charges in Different Regions\");"
   ]
  },
  {
   "cell_type": "code",
   "execution_count": 84,
   "id": "28cfc251",
   "metadata": {},
   "outputs": [
    {
     "data": {
      "text/html": [
       "<table class=\"simpletable\">\n",
       "<caption>Multiple Comparison of Means - Tukey HSD, FWER=0.05</caption>\n",
       "<tr>\n",
       "   <th>group1</th>    <th>group2</th>    <th>meandiff</th>   <th>p-adj</th>    <th>lower</th>     <th>upper</th>   <th>reject</th>\n",
       "</tr>\n",
       "<tr>\n",
       "  <td>northeast</td> <td>northwest</td>  <td>-988.8091</td> <td>0.7245</td> <td>-3428.9343</td> <td>1451.3161</td>  <td>False</td>\n",
       "</tr>\n",
       "<tr>\n",
       "  <td>northeast</td> <td>southeast</td>  <td>1329.0269</td> <td>0.4745</td> <td>-1044.9417</td> <td>3702.9955</td>  <td>False</td>\n",
       "</tr>\n",
       "<tr>\n",
       "  <td>northeast</td> <td>southwest</td> <td>-1059.4471</td> <td>0.6792</td> <td>-3499.5723</td> <td>1380.6781</td>  <td>False</td>\n",
       "</tr>\n",
       "<tr>\n",
       "  <td>northwest</td> <td>southeast</td>  <td>2317.8361</td> <td>0.0583</td>  <td>-54.1994</td>  <td>4689.8716</td>  <td>False</td>\n",
       "</tr>\n",
       "<tr>\n",
       "  <td>northwest</td> <td>southwest</td>   <td>-70.638</td>  <td>0.9999</td> <td>-2508.8826</td> <td>2367.6066</td>  <td>False</td>\n",
       "</tr>\n",
       "<tr>\n",
       "  <td>southeast</td> <td>southwest</td> <td>-2388.4741</td> <td>0.0477</td> <td>-4760.5096</td> <td>-16.4386</td>   <td>True</td> \n",
       "</tr>\n",
       "</table>"
      ],
      "text/plain": [
       "<class 'statsmodels.iolib.table.SimpleTable'>"
      ]
     },
     "execution_count": 84,
     "metadata": {},
     "output_type": "execute_result"
    }
   ],
   "source": [
    "from statsmodels.stats.multicomp import pairwise_tukeyhsd\n",
    "reg=df['region']\n",
    "char=df['charges']\n",
    "tukeys_results = pairwise_tukeyhsd(char, reg)\n",
    "tukeys_results.summary()"
   ]
  },
  {
   "cell_type": "code",
   "execution_count": 94,
   "id": "43e4b5ab",
   "metadata": {},
   "outputs": [
    {
     "data": {
      "text/html": [
       "<div>\n",
       "<style scoped>\n",
       "    .dataframe tbody tr th:only-of-type {\n",
       "        vertical-align: middle;\n",
       "    }\n",
       "\n",
       "    .dataframe tbody tr th {\n",
       "        vertical-align: top;\n",
       "    }\n",
       "\n",
       "    .dataframe thead th {\n",
       "        text-align: right;\n",
       "    }\n",
       "</style>\n",
       "<table border=\"1\" class=\"dataframe\">\n",
       "  <thead>\n",
       "    <tr style=\"text-align: right;\">\n",
       "      <th></th>\n",
       "      <th>age</th>\n",
       "      <th>bmi</th>\n",
       "      <th>children</th>\n",
       "      <th>charges</th>\n",
       "    </tr>\n",
       "    <tr>\n",
       "      <th>region</th>\n",
       "      <th></th>\n",
       "      <th></th>\n",
       "      <th></th>\n",
       "      <th></th>\n",
       "    </tr>\n",
       "  </thead>\n",
       "  <tbody>\n",
       "    <tr>\n",
       "      <th>northeast</th>\n",
       "      <td>39.268519</td>\n",
       "      <td>29.173503</td>\n",
       "      <td>1.046296</td>\n",
       "      <td>13406.384516</td>\n",
       "    </tr>\n",
       "    <tr>\n",
       "      <th>northwest</th>\n",
       "      <td>39.196923</td>\n",
       "      <td>29.199785</td>\n",
       "      <td>1.147692</td>\n",
       "      <td>12417.575374</td>\n",
       "    </tr>\n",
       "    <tr>\n",
       "      <th>southeast</th>\n",
       "      <td>38.939560</td>\n",
       "      <td>33.355989</td>\n",
       "      <td>1.049451</td>\n",
       "      <td>14735.411438</td>\n",
       "    </tr>\n",
       "    <tr>\n",
       "      <th>southwest</th>\n",
       "      <td>39.455385</td>\n",
       "      <td>30.596615</td>\n",
       "      <td>1.141538</td>\n",
       "      <td>12346.937377</td>\n",
       "    </tr>\n",
       "  </tbody>\n",
       "</table>\n",
       "</div>"
      ],
      "text/plain": [
       "                 age        bmi  children       charges\n",
       "region                                                 \n",
       "northeast  39.268519  29.173503  1.046296  13406.384516\n",
       "northwest  39.196923  29.199785  1.147692  12417.575374\n",
       "southeast  38.939560  33.355989  1.049451  14735.411438\n",
       "southwest  39.455385  30.596615  1.141538  12346.937377"
      ]
     },
     "execution_count": 94,
     "metadata": {},
     "output_type": "execute_result"
    }
   ],
   "source": [
    "df.groupby(['region']).mean()"
   ]
  },
  {
   "cell_type": "markdown",
   "id": "a6925be9",
   "metadata": {},
   "source": [
    "CONCLUSION: \n",
    "Most regions show there is no significance difference between the different regions and charges.\n",
    "Only exception : Southeast and southwest where there is a significant difference in charges"
   ]
  }
 ],
 "metadata": {
  "kernelspec": {
   "display_name": "Python (dojo-env)",
   "language": "python",
   "name": "dojo-env"
  },
  "language_info": {
   "codemirror_mode": {
    "name": "ipython",
    "version": 3
   },
   "file_extension": ".py",
   "mimetype": "text/x-python",
   "name": "python",
   "nbconvert_exporter": "python",
   "pygments_lexer": "ipython3",
   "version": "3.7.12"
  },
  "toc": {
   "base_numbering": 1,
   "nav_menu": {},
   "number_sections": false,
   "sideBar": true,
   "skip_h1_title": false,
   "title_cell": "Table of Contents",
   "title_sidebar": "Contents",
   "toc_cell": false,
   "toc_position": {},
   "toc_section_display": true,
   "toc_window_display": false
  }
 },
 "nbformat": 4,
 "nbformat_minor": 5
}
